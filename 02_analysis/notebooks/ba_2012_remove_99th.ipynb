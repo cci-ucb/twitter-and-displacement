{
 "cells": [
  {
   "cell_type": "code",
   "execution_count": 1,
   "metadata": {
    "ExecuteTime": {
     "end_time": "2019-05-12T19:53:29.377135Z",
     "start_time": "2019-05-12T19:53:26.415569Z"
    }
   },
   "outputs": [],
   "source": [
    "import pandas as pd\n",
    "import numpy as np\n",
    "import matplotlib.pyplot as plt\n",
    "from shapely.geometry import Point, Polygon, shape\n",
    "import geopandas as gpd\n",
    "import pickle\n",
    "\n",
    "# Import custom functions from `scripts` folder\n",
    "module_path = os.path.abspath(os.path.join('..'))\n",
    "if module_path not in sys.path:\n",
    "    sys.path.append(module_path)\n",
    "from scripts.clean_tweets import geometrize_tweets, convert_shapefile_crs, find_frequencies\n",
    "from scripts.home_location import assign_home_location\n",
    "\n",
    "np.random.seed(42)\n",
    "pd.set_option('display.max_columns', 999)"
   ]
  },
  {
   "cell_type": "markdown",
   "metadata": {},
   "source": [
    "# Loading data"
   ]
  },
  {
   "cell_type": "code",
   "execution_count": 2,
   "metadata": {
    "ExecuteTime": {
     "end_time": "2019-05-12T19:53:43.651940Z",
     "start_time": "2019-05-12T19:53:29.379414Z"
    }
   },
   "outputs": [
    {
     "name": "stderr",
     "output_type": "stream",
     "text": [
      "/scratch/public/jsp/twitter-and-displacement/.env/lib/python3.7/site-packages/IPython/core/interactiveshell.py:3049: DtypeWarning: Columns (6) have mixed types. Specify dtype option on import or set low_memory=False.\n",
      "  interactivity=interactivity, compiler=compiler, result=result)\n"
     ]
    }
   ],
   "source": [
    "ba12 = pd.read_csv('../data/tweets/ba_2012.csv')"
   ]
  },
  {
   "cell_type": "code",
   "execution_count": 3,
   "metadata": {
    "ExecuteTime": {
     "end_time": "2019-05-12T19:55:11.396115Z",
     "start_time": "2019-05-12T19:53:43.654620Z"
    }
   },
   "outputs": [],
   "source": [
    "ba_shapefiles = gpd.read_file('../data/shapefiles/buenos_aires_shapefiles/BA_2010.shp')\n",
    "ba_shapefiles = convert_shapefile_crs(ba_shapefiles)"
   ]
  },
  {
   "cell_type": "markdown",
   "metadata": {},
   "source": [
    "# Filtering data and adding tracts"
   ]
  },
  {
   "cell_type": "code",
   "execution_count": 4,
   "metadata": {
    "ExecuteTime": {
     "end_time": "2019-05-12T19:55:11.742476Z",
     "start_time": "2019-05-12T19:55:11.398594Z"
    }
   },
   "outputs": [],
   "source": [
    "# Compute summary stats\n",
    "num_tweets_12, num_users_12, median_tweets_12 = len(ba12), ba12['u_id'].nunique(), ba12.groupby('u_id').size().median()\n",
    "percentile_99 = ba12.groupby('u_id').size().quantile(.99)"
   ]
  },
  {
   "cell_type": "code",
   "execution_count": 5,
   "metadata": {
    "ExecuteTime": {
     "end_time": "2019-05-12T19:55:33.017414Z",
     "start_time": "2019-05-12T19:55:11.744052Z"
    }
   },
   "outputs": [],
   "source": [
    "# Filter based on median tweets for 2012\n",
    "ba12_filtered = ba12.groupby('u_id').filter(lambda group: (len(group) >= median_tweets_12) & (len(group) <= percentile_99) )"
   ]
  },
  {
   "cell_type": "code",
   "execution_count": 6,
   "metadata": {
    "ExecuteTime": {
     "end_time": "2019-05-12T19:55:51.625733Z",
     "start_time": "2019-05-12T19:55:33.019736Z"
    }
   },
   "outputs": [],
   "source": [
    "# Geometrize tweets based on lat/lon\n",
    "ba12_filtered = geometrize_tweets(ba12_filtered)"
   ]
  },
  {
   "cell_type": "code",
   "execution_count": 7,
   "metadata": {
    "ExecuteTime": {
     "end_time": "2019-05-12T19:55:52.399094Z",
     "start_time": "2019-05-12T19:55:51.627588Z"
    }
   },
   "outputs": [],
   "source": [
    "# Add datetime\n",
    "ba12_filtered['timestamp'] = pd.to_datetime(ba12_filtered['created_at'] // 1000, unit='s')\n",
    "ba12_filtered['date'] = ba12_filtered['timestamp'].dt.date\n",
    "ba12_filtered['hour'] = ba12_filtered['timestamp'].dt.hour"
   ]
  },
  {
   "cell_type": "code",
   "execution_count": null,
   "metadata": {
    "ExecuteTime": {
     "start_time": "2019-05-12T19:53:34.876Z"
    }
   },
   "outputs": [
    {
     "name": "stderr",
     "output_type": "stream",
     "text": [
      "/scratch/public/jsp/twitter-and-displacement/.env/lib/python3.7/site-packages/geopandas/tools/sjoin.py:56: UserWarning: CRS of frames being joined does not match!({'init': 'epsg:4326'} != {'proj': 'tmerc', 'lat_0': -34.6297166, 'lon_0': -58.4627, 'k': 1, 'x_0': 100000, 'y_0': 100000, 'ellps': 'intl', 'units': 'm', 'no_defs': True})\n",
      "  '(%s != %s)' % (left_df.crs, right_df.crs))\n"
     ]
    }
   ],
   "source": [
    "# Spatial join for tracts; add home locations\n",
    "ba12_filtered = gpd.sjoin(ba12_filtered, ba_shapefiles, how='left', op='intersects')\n",
    "ba12_filtered['home'] = assign_home_location(ba12_filtered, tract='codigo')"
   ]
  },
  {
   "cell_type": "code",
   "execution_count": 2,
   "metadata": {
    "ExecuteTime": {
     "end_time": "2019-05-06T20:10:04.794764Z",
     "start_time": "2019-05-06T20:09:15.546788Z"
    }
   },
   "outputs": [],
   "source": [
    "# Save data for easy loading in future\n",
    "# with open('../data/ba12_home.pkl', 'wb') as file:\n",
    "#     pickle.dump(ba12_filtered, file, protocol=4)\n",
    "with open('../data/ba12_home.pkl', 'rb') as file:\n",
    "    ba12_filtered = pickle.load(file)\n",
    "\n",
    "\n",
    "ba12_filtered['is_home'] = ba12_filtered['home'] == ba12_filtered['codigo']"
   ]
  },
  {
   "cell_type": "code",
   "execution_count": null,
   "metadata": {
    "ExecuteTime": {
     "start_time": "2019-05-12T19:53:38.294Z"
    }
   },
   "outputs": [],
   "source": [
    "# How many of the filtered tweets have a home assignment?\n",
    "print((~ba12_filtered['home'].isnull()).mean())"
   ]
  },
  {
   "cell_type": "code",
   "execution_count": null,
   "metadata": {
    "ExecuteTime": {
     "start_time": "2019-05-12T19:53:38.912Z"
    }
   },
   "outputs": [],
   "source": [
    "# Ratio of users that have home location\n",
    "ba12_filtered.groupby(['u_id']).first()['is_home'].mean()"
   ]
  },
  {
   "cell_type": "code",
   "execution_count": null,
   "metadata": {
    "ExecuteTime": {
     "start_time": "2019-05-12T19:53:41.408Z"
    }
   },
   "outputs": [],
   "source": [
    "# Ratio of filtered 2012 tweets in which tweet was made from home tract \n",
    "ba12_filtered['is_home'].mean()"
   ]
  },
  {
   "cell_type": "code",
   "execution_count": null,
   "metadata": {
    "ExecuteTime": {
     "start_time": "2019-05-12T19:53:42.859Z"
    }
   },
   "outputs": [],
   "source": [
    "### Plot 5% of 2012 tweets\n",
    "# Blue tweets: Resident\n",
    "# Red tweets: Non-resident\n",
    "# Gray (barely visible beneath the blue): Buenos Aires shapefile\n",
    "fig, ax = plt.subplots(figsize=(10, 7))\n",
    "ba_shapefiles['geometry'].plot(ax=ax, color='gray')\n",
    "smpl = ba12_filtered.sample(frac=0.05, random_state=42)\n",
    "smpl[~smpl['is_home']].plot(ax=ax, marker='o', color='red', alpha=0.01, label='Red: Non-Resident')\n",
    "smpl[smpl['is_home']].plot(ax=ax, marker='o', color='blue', alpha=0.01, label='Blue: Resident')\n",
    "plt.legend()\n",
    "plt.axis([-58.6, -58.3, -34.75, -34.5])\n",
    "plt.title('Buenos Aires tweets, 2012');"
   ]
  },
  {
   "cell_type": "markdown",
   "metadata": {},
   "source": [
    "# Filtering"
   ]
  },
  {
   "cell_type": "code",
   "execution_count": 41,
   "metadata": {
    "ExecuteTime": {
     "end_time": "2019-05-07T14:44:32.480649Z",
     "start_time": "2019-05-07T14:42:36.973039Z"
    }
   },
   "outputs": [],
   "source": [
    "# Save data for easy loading in future\n",
    "# with open('../data/ba12_home.pkl', 'wb') as file:\n",
    "#     pickle.dump(ba12_filtered, file, protocol=4)\n",
    "with open('../data/ba12_home.pkl', 'rb') as file:\n",
    "    ba12_filtered = pickle.load(file)\n",
    "\n",
    "ba12_filtered['home'] = assign_home_location(ba12_filtered, tract='codigo')\n",
    "ba12_filtered['is_home'] = ba12_filtered['home'] == ba12_filtered['codigo']"
   ]
  },
  {
   "cell_type": "code",
   "execution_count": null,
   "metadata": {
    "ExecuteTime": {
     "start_time": "2019-05-12T19:54:07.675Z"
    }
   },
   "outputs": [],
   "source": [
    "# How many of the filtered tweets have a home assignment?\n",
    "print((~ba12_filtered.loc[~ba12_filtered['codigo'].isnull(), 'home'].isnull()).mean())"
   ]
  },
  {
   "cell_type": "code",
   "execution_count": null,
   "metadata": {
    "ExecuteTime": {
     "start_time": "2019-05-12T19:54:08.186Z"
    }
   },
   "outputs": [],
   "source": [
    "# Ratio of users that have home location\n",
    "ba12_filtered[~ba12_filtered['codigo'].isnull()].groupby(['u_id']).first()['is_home'].mean()"
   ]
  },
  {
   "cell_type": "code",
   "execution_count": null,
   "metadata": {
    "ExecuteTime": {
     "start_time": "2019-05-12T19:54:08.536Z"
    }
   },
   "outputs": [],
   "source": [
    "# Ratio of filtered 2012 tweets in which tweet was made from home tract \n",
    "ba12_filtered.loc[~ba12_filtered['codigo'].isnull(), 'is_home'].mean()"
   ]
  },
  {
   "cell_type": "code",
   "execution_count": null,
   "metadata": {
    "ExecuteTime": {
     "start_time": "2019-05-12T19:54:09.208Z"
    },
    "scrolled": false
   },
   "outputs": [],
   "source": [
    "### Plot 5% of 2012 tweets\n",
    "# Blue tweets: Resident\n",
    "# Red tweets: Non-resident\n",
    "# Gray (barely visible beneath the blue): Buenos Aires shapefile\n",
    "fig, ax = plt.subplots(figsize=(10, 7))\n",
    "ba_shapefiles['geometry'].plot(ax=ax, color='gray')\n",
    "smpl = ba12_filtered[~ba12_filtered['codigo'].isnull()].sample(frac=0.05, random_state=42)\n",
    "smpl[~smpl['is_home']].plot(ax=ax, marker='o', color='red', alpha=0.01, label='Red: Non-Resident')\n",
    "smpl[smpl['is_home']].plot(ax=ax, marker='o', color='blue', alpha=0.01, label='Blue: Resident')\n",
    "plt.legend()\n",
    "plt.axis([-58.6, -58.3, -34.75, -34.5])\n",
    "plt.title('Buenos Aires tweets, 2012');"
   ]
  },
  {
   "cell_type": "code",
   "execution_count": 46,
   "metadata": {
    "ExecuteTime": {
     "end_time": "2019-05-08T04:29:47.641883Z",
     "start_time": "2019-05-08T04:29:46.536198Z"
    }
   },
   "outputs": [],
   "source": [
    "(\n",
    "    ba12_filtered\n",
    "    .loc[:, ['codigo', 'is_home']]\n",
    "    .groupby('codigo')\n",
    "    .agg([len, np.mean])\n",
    "    .rename(columns={'len':'count', 'mean':'home_tweet_ratio'})\n",
    ").to_csv('../data/ba12_home_by_codigo.csv')"
   ]
  }
 ],
 "metadata": {
  "kernelspec": {
   "display_name": "Python 3",
   "language": "python",
   "name": "python3"
  },
  "language_info": {
   "codemirror_mode": {
    "name": "ipython",
    "version": 3
   },
   "file_extension": ".py",
   "mimetype": "text/x-python",
   "name": "python",
   "nbconvert_exporter": "python",
   "pygments_lexer": "ipython3",
   "version": "3.7.0"
  }
 },
 "nbformat": 4,
 "nbformat_minor": 2
}
