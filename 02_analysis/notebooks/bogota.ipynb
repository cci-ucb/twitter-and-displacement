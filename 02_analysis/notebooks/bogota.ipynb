{
 "cells": [
  {
   "cell_type": "code",
   "execution_count": 11,
   "metadata": {
    "ExecuteTime": {
     "end_time": "2019-04-10T16:08:37.090692Z",
     "start_time": "2019-04-10T16:08:37.087978Z"
    }
   },
   "outputs": [],
   "source": [
    "import pandas as pd\n",
    "import numpy as np\n",
    "import matplotlib.pyplot as plt\n",
    "import re\n",
    "\n",
    "from pathlib import Path\n",
    "DATA_DIR = Path('data')"
   ]
  },
  {
   "cell_type": "markdown",
   "metadata": {},
   "source": [
    "# Tweet Count Distributions"
   ]
  },
  {
   "cell_type": "code",
   "execution_count": 45,
   "metadata": {
    "ExecuteTime": {
     "end_time": "2019-04-10T16:27:30.558627Z",
     "start_time": "2019-04-10T16:22:40.945459Z"
    }
   },
   "outputs": [
    {
     "name": "stdout",
     "output_type": "stream",
     "text": [
      "Bogota 2012 \n",
      "\n",
      "count    61402.000000\n",
      "mean        31.611674\n",
      "std        122.261728\n",
      "min          1.000000\n",
      "10%          1.000000\n",
      "25%          2.000000\n",
      "50%          5.000000\n",
      "75%         20.000000\n",
      "90%         67.000000\n",
      "max       9609.000000\n",
      "dtype: float64\n",
      "----------------\n",
      "Bogota 2013 \n",
      "\n",
      "count    184020.000000\n",
      "mean         42.187985\n",
      "std         178.058052\n",
      "min           1.000000\n",
      "10%           1.000000\n",
      "25%           2.000000\n",
      "50%           5.000000\n",
      "75%          23.000000\n",
      "90%          86.000000\n",
      "max       22606.000000\n",
      "dtype: float64\n",
      "----------------\n",
      "Bogota 2014 \n",
      "\n",
      "count    212019.000000\n",
      "mean         51.642244\n",
      "std         252.394798\n",
      "min           1.000000\n",
      "10%           1.000000\n",
      "25%           2.000000\n",
      "50%           6.000000\n",
      "75%          26.000000\n",
      "90%         103.000000\n",
      "max       64060.000000\n",
      "dtype: float64\n",
      "----------------\n",
      "Bogota 2015 \n",
      "\n",
      "count    150333.000000\n",
      "mean         26.981528\n",
      "std         261.575816\n",
      "min           1.000000\n",
      "10%           1.000000\n",
      "25%           1.000000\n",
      "50%           4.000000\n",
      "75%          15.000000\n",
      "90%          53.000000\n",
      "max       90496.000000\n",
      "dtype: float64\n",
      "----------------\n"
     ]
    }
   ],
   "source": [
    "for file in DATA_DIR.iterdir():\n",
    "    data = pd.read_csv(file)\n",
    "    year = re.search(r'_(\\d*)', file.stem).group(1)\n",
    "    \n",
    "    print('Bogota', year, '\\n')\n",
    "    print(data.groupby('u_id').size().describe(percentiles=[0.1, 0.25, 0.5, 0.75, 0.9]))\n",
    "    print('----------------')\n",
    "del data"
   ]
  }
 ],
 "metadata": {
  "kernelspec": {
   "display_name": "Python 3",
   "language": "python",
   "name": "python3"
  },
  "language_info": {
   "codemirror_mode": {
    "name": "ipython",
    "version": 3
   },
   "file_extension": ".py",
   "mimetype": "text/x-python",
   "name": "python",
   "nbconvert_exporter": "python",
   "pygments_lexer": "ipython3",
   "version": "3.6.5"
  }
 },
 "nbformat": 4,
 "nbformat_minor": 2
}
