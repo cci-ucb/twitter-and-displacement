{
 "cells": [
  {
   "cell_type": "code",
   "execution_count": 4,
   "metadata": {
    "ExecuteTime": {
     "end_time": "2019-04-10T16:22:16.139079Z",
     "start_time": "2019-04-10T16:22:16.135597Z"
    }
   },
   "outputs": [],
   "source": [
    "import pandas as pd\n",
    "import numpy as np\n",
    "import matplotlib.pyplot as plt\n",
    "import re\n",
    "\n",
    "from pathlib import Path\n",
    "DATA_DIR = Path('data')"
   ]
  },
  {
   "cell_type": "markdown",
   "metadata": {},
   "source": [
    "# Tweet Count Distributions"
   ]
  },
  {
   "cell_type": "code",
   "execution_count": null,
   "metadata": {
    "ExecuteTime": {
     "start_time": "2019-04-10T16:22:16.629Z"
    }
   },
   "outputs": [
    {
     "name": "stderr",
     "output_type": "stream",
     "text": [
      "/mnt/c/Users/Junseo/Documents/data-science/.env/lib/python3.6/site-packages/IPython/core/interactiveshell.py:2785: DtypeWarning: Columns (6) have mixed types. Specify dtype option on import or set low_memory=False.\n",
      "  interactivity=interactivity, compiler=compiler, result=result)\n"
     ]
    },
    {
     "name": "stdout",
     "output_type": "stream",
     "text": [
      "Buenos Aires 2012 \n",
      "\n",
      "count    79364.000000\n",
      "mean        43.947722\n",
      "std        160.473638\n",
      "min          1.000000\n",
      "10%          1.000000\n",
      "25%          2.000000\n",
      "50%          8.000000\n",
      "75%         30.000000\n",
      "90%         95.000000\n",
      "max      10249.000000\n",
      "dtype: float64\n",
      "----------------\n",
      "Buenos Aires 2013 \n",
      "\n",
      "count    247877.000000\n",
      "mean         73.743332\n",
      "std         261.520957\n",
      "min           1.000000\n",
      "10%           1.000000\n",
      "25%           2.000000\n",
      "50%          10.000000\n",
      "75%          46.000000\n",
      "90%         168.000000\n",
      "max       24507.000000\n",
      "dtype: float64\n",
      "----------------\n"
     ]
    }
   ],
   "source": [
    "for file in DATA_DIR.iterdir():\n",
    "    data = pd.read_csv(file)\n",
    "    year = re.search(r'_(\\d*)', file.stem).group(1)\n",
    "    \n",
    "    print('Buenos Aires', year, '\\n')\n",
    "    print(data.groupby('u_id').size().describe(percentiles=[0.1, 0.25, 0.5, 0.75, 0.9]))\n",
    "    print('----------------')\n",
    "del data"
   ]
  },
  {
   "cell_type": "code",
   "execution_count": null,
   "metadata": {
    "ExecuteTime": {
     "start_time": "2019-04-10T16:22:58.324Z"
    }
   },
   "outputs": [],
   "source": [
    "del data"
   ]
  }
 ],
 "metadata": {
  "kernelspec": {
   "display_name": "Python 3",
   "language": "python",
   "name": "python3"
  },
  "language_info": {
   "codemirror_mode": {
    "name": "ipython",
    "version": 3
   },
   "file_extension": ".py",
   "mimetype": "text/x-python",
   "name": "python",
   "nbconvert_exporter": "python",
   "pygments_lexer": "ipython3",
   "version": "3.6.5"
  }
 },
 "nbformat": 4,
 "nbformat_minor": 2
}
